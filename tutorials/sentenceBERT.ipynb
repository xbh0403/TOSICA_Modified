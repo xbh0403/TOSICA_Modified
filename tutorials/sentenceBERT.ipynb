{
 "cells": [
  {
   "cell_type": "code",
   "execution_count": 1,
   "metadata": {},
   "outputs": [],
   "source": [
    "import TOSICA\n",
    "import scanpy as sc\n",
    "import numpy as np"
   ]
  },
  {
   "cell_type": "markdown",
   "metadata": {},
   "source": [
    "Information of GPU"
   ]
  },
  {
   "cell_type": "code",
   "execution_count": 2,
   "metadata": {},
   "outputs": [
    {
     "name": "stdout",
     "output_type": "stream",
     "text": [
      "1.7.1\n",
      "(8, 6) NVIDIA GeForce RTX 3080 Ti Laptop GPU\n"
     ]
    }
   ],
   "source": [
    "import torch\n",
    "print(torch.__version__)\n",
    "print(torch.cuda.get_device_capability(device=None),  torch.cuda.get_device_name(device=None))"
   ]
  },
  {
   "cell_type": "markdown",
   "metadata": {},
   "source": [
    "Reference data"
   ]
  },
  {
   "cell_type": "code",
   "execution_count": 3,
   "metadata": {},
   "outputs": [
    {
     "name": "stdout",
     "output_type": "stream",
     "text": [
      "View of AnnData object with n_obs × n_vars = 10600 × 3000\n",
      "    obs: 'Celltype'\n",
      "    var: 'Gene Symbol'\n",
      "alpha          3136\n",
      "beta           2966\n",
      "ductal         1290\n",
      "acinar         1144\n",
      "delta           793\n",
      "PSC             524\n",
      "PP              356\n",
      "endothelial     273\n",
      "macrophage       52\n",
      "mast             25\n",
      "epsilon          21\n",
      "schwann          13\n",
      "t_cell            7\n",
      "Name: Celltype, dtype: int64\n"
     ]
    }
   ],
   "source": [
    "ref_adata = sc.read('demo_train.h5ad')\n",
    "ref_adata = ref_adata[:,ref_adata.var_names]\n",
    "print(ref_adata)\n",
    "print(ref_adata.obs.Celltype.value_counts())"
   ]
  },
  {
   "cell_type": "markdown",
   "metadata": {},
   "source": [
    "Training:"
   ]
  },
  {
   "cell_type": "code",
   "execution_count": 5,
   "metadata": {},
   "outputs": [
    {
     "name": "stdout",
     "output_type": "stream",
     "text": [
      "cuda:0\n",
      "Mask loaded!\n",
      "Model builded!\n"
     ]
    },
    {
     "name": "stderr",
     "output_type": "stream",
     "text": [
      "[train epoch 0] loss: 1.758, acc: 0.355: 100%|██████████| 5096/5096 [01:30<00:00, 56.10it/s]\n",
      "[valid epoch 0] loss: 0.253, acc: 0.968: 100%|██████████| 5096/5096 [00:32<00:00, 157.13it/s]\n",
      "[train epoch 1] loss: 0.163, acc: 0.974: 100%|██████████| 5096/5096 [01:30<00:00, 56.24it/s]\n",
      "[valid epoch 1] loss: 0.043, acc: 0.992: 100%|██████████| 5096/5096 [00:31<00:00, 163.45it/s]\n",
      "[train epoch 2] loss: 0.066, acc: 0.990: 100%|██████████| 5096/5096 [01:30<00:00, 56.04it/s]\n",
      "[valid epoch 2] loss: 0.028, acc: 0.994: 100%|██████████| 5096/5096 [00:31<00:00, 161.45it/s]\n"
     ]
    },
    {
     "name": "stdout",
     "output_type": "stream",
     "text": [
      "Training finished!\n"
     ]
    }
   ],
   "source": [
    "TOSICA.train(ref_adata, gmt_path='human_gobp', label_name='Celltype',epochs=3)"
   ]
  }
 ],
 "metadata": {
  "kernelspec": {
   "display_name": "CS_436N",
   "language": "python",
   "name": "python3"
  },
  "language_info": {
   "codemirror_mode": {
    "name": "ipython",
    "version": 3
   },
   "file_extension": ".py",
   "mimetype": "text/x-python",
   "name": "python",
   "nbconvert_exporter": "python",
   "pygments_lexer": "ipython3",
   "version": "3.9.13"
  },
  "orig_nbformat": 4,
  "vscode": {
   "interpreter": {
    "hash": "176954ab3bb0bc4913862673888f953cab7310d195fb9e186b42e959e13a9513"
   }
  }
 },
 "nbformat": 4,
 "nbformat_minor": 2
}
